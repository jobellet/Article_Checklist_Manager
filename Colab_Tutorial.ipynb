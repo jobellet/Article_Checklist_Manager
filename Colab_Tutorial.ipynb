{
 "cells": [
  {
   "cell_type": "markdown",
   "id": "5e37f385",
   "metadata": {},
   "source": [
    "# Article Checklist Manager Tutorial\n",
    "This short Colab guide shows how to install and run the `acm` command line tool."
   ]
  },
  {
   "cell_type": "markdown",
   "id": "fcaca3ad",
   "metadata": {},
   "source": [
    "## Install\n",
    "Install the package from PyPI. If you are running this notebook from the project repository, you can also run `pip install -e .`."
   ]
  },
  {
   "cell_type": "code",
   "execution_count": null,
   "id": "818e7808",
   "metadata": {},
   "outputs": [],
   "source": [
    "!pip install article-checklist-manager"
   ]
  },
  {
   "cell_type": "markdown",
   "id": "9e865772",
   "metadata": {},
   "source": [
    "## Initialize a project\n",
    "Create a new checklist project directory."
   ]
  },
  {
   "cell_type": "code",
   "execution_count": null,
   "id": "7dd13402",
   "metadata": {},
   "outputs": [],
   "source": [
    "!acm init DemoPaper"
   ]
  },
  {
   "cell_type": "markdown",
   "id": "92ea6b96",
   "metadata": {},
   "source": [
    "## Check progress\n",
    "Move into the project folder and show the initial status."
   ]
  },
  {
   "cell_type": "code",
   "execution_count": null,
   "id": "8a2c8312",
   "metadata": {},
   "outputs": [],
   "source": [
    "%cd DemoPaper\n",
    "!acm status"
   ]
  },
  {
   "cell_type": "markdown",
   "id": "0fb7c0cd",
   "metadata": {},
   "source": [
    "## Update tasks\n",
    "Use `acm check` to mark items as complete or set percentages."
   ]
  },
  {
   "cell_type": "code",
   "execution_count": null,
   "id": "131756bc",
   "metadata": {},
   "outputs": [],
   "source": [
    "!acm check \"Introduction/Outline\" --done\n",
    "!acm check \"Methods/Data collection\" --percent 50"
   ]
  },
  {
   "cell_type": "markdown",
   "id": "1b253eeb",
   "metadata": {},
   "source": [
    "## View updated status"
   ]
  },
  {
   "cell_type": "code",
   "execution_count": null,
   "id": "c5a53360",
   "metadata": {},
   "outputs": [],
   "source": [
    "!acm status"
   ]
  }
 ],
 "metadata": {},
 "nbformat": 4,
 "nbformat_minor": 5
}
