{
 "cells": [
  {
   "cell_type": "markdown",
   "id": "5e37f385",
   "metadata": {},
   "source": [
    "# Article Checklist Manager Tutorial\n",
    "This Colab guide shows how to install and use the `acm` toolbox directly from GitHub."
   ]
  },
  {
   "cell_type": "markdown",
   "metadata": {},
   "source": [
    "## Quick setup\n",
    "Run the following cell to clone the repo, install dependencies, and create a demo project. When executed on Google Colab, your Drive will be mounted automatically so progress persists."
   ]
  },
  {
   "cell_type": "code",
   "metadata": {},
   "execution_count": null,
   "outputs": [],
   "source": [
    "!pip install --quiet git+https://github.com/jobellet/Article_Checklist_Manager.git\n",
    "from acm.colab import setup\n",
    "project_path = setup(\"DemoPaper\", repo_url=\"https://github.com/jobellet/Article_Checklist_Manager.git\")\n",
    "project_path"
   ]
  },
  {
   "cell_type": "code",
   "metadata": {},
   "execution_count": null,
   "outputs": [],
   "source": [
    "%cd $project_path"
   ]
  },
  {
   "cell_type": "markdown",
   "id": "9e865772",
   "metadata": {},
   "source": [
    "## Manual project initialisation (optional)\n",
    "The `setup` helper already creates the `DemoPaper` folder. The following command shows how you would initialise a project manually."
   ]
  },
  {
   "cell_type": "markdown",
   "id": "92ea6b96",
   "metadata": {},
   "source": [
    "## Check project status\n",
    "Display the progress after initial setup."
   ]
  },
  {
   "cell_type": "code",
   "execution_count": null,
   "id": "8a2c8312",
   "metadata": {},
   "outputs": [],
   "source": [
    "!acm status"
   ]
  },
  {
   "cell_type": "markdown",
   "id": "0fb7c0cd",
   "metadata": {},
   "source": [
    "## Update tasks\n",
    "Use `acm check` to mark items as complete or set percentages."
   ]
  },
  {
   "cell_type": "code",
   "execution_count": null,
   "id": "131756bc",
   "metadata": {},
   "outputs": [],
   "source": [
    "!acm check \"Introduction/Outline\" --done\n",
    "!acm check \"Methods/Data collection\" --percent 50"
   ]
  },
  {
   "cell_type": "markdown",
   "id": "1b253eeb",
   "metadata": {},
   "source": [
    "## View updated status"
   ]
  },
  {
   "cell_type": "code",
   "execution_count": null,
   "id": "c5a53360",
   "metadata": {},
   "outputs": [],
   "source": [
    "!acm status"
   ]
  },
  {
   "cell_type": "markdown",
   "metadata": {},
   "source": [
    "## Inspect saved checklist\n",
    "The checklist is stored as `acm.yaml`. You can load it as a Python object or view the raw YAML."
   ]
  },
  {
   "cell_type": "code",
   "metadata": {},
   "execution_count": null,
   "outputs": [],
   "source": [
    "from pathlib import Path\n",
    "print(Path(\"acm.yaml\").read_text())"
   ]
  },
  {
   "cell_type": "markdown",
   "metadata": {},
   "source": [
    "## Export checklist\n",
    "You can export the progress report to Markdown for sharing."
   ]
  },
  {
   "cell_type": "code",
   "metadata": {},
   "execution_count": null,
   "outputs": [],
   "source": [
    "!acm export --format markdown > checklist.md\n",
    "!head checklist.md"
   ]
  }
 ],
 "metadata": {},
 "nbformat": 4,
 "nbformat_minor": 5
}